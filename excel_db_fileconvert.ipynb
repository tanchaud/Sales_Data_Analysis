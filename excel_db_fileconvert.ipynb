{
 "cells": [
  {
   "cell_type": "markdown",
   "metadata": {},
   "source": [
    "#### Simple file conversion from excel to db, without EDA. The output .db file can then be loaded into a RDBMS, on which we can perform SQL queries to start off with ur EDA. "
   ]
  },
  {
   "cell_type": "code",
   "execution_count": 1,
   "metadata": {},
   "outputs": [],
   "source": [
    "import pandas as pd\n",
    "import sqlite3\n",
    "from sqlalchemy import create_engine\n",
    "import psycopg2"
   ]
  },
  {
   "cell_type": "code",
   "execution_count": 2,
   "metadata": {},
   "outputs": [
    {
     "name": "stderr",
     "output_type": "stream",
     "text": [
      "/Users/tanchaud/anaconda3/lib/python3.8/site-packages/pandas/core/generic.py:2872: UserWarning: The spaces in these column names will not be changed. In pandas versions < 0.14, spaces were converted to underscores.\n",
      "  sql.to_sql(\n"
     ]
    }
   ],
   "source": [
    "# import into sqlite\n",
    "\n",
    "db = sqlite3.connect('database_clean.db')\n",
    "dfs = pd.read_excel('sales_clean.xlsx', sheet_name=None)\n",
    "for table, df in dfs.items():\n",
    "    df = df.iloc[0:500]\n",
    "    df.to_sql(table, db, index=True)\n",
    "db.commit()\n",
    "db.close()"
   ]
  },
  {
   "cell_type": "code",
   "execution_count": 2,
   "metadata": {},
   "outputs": [
    {
     "name": "stdout",
     "output_type": "stream",
     "text": [
      "Starting data ingest...\n"
     ]
    }
   ],
   "source": [
    "# import into postgresql via sqlalchemy\n",
    "conn_string = 'postgresql://tanchaud:@localhost:15432/VS Electronics'\n",
    "\n",
    "db = create_engine(conn_string)\n",
    "conn = db.connect()\n",
    "\n",
    "dfs = pd.read_excel('sales_original.xlsx', sheet_name=None)\n",
    "print('Starting data ingest...')\n",
    "for table, df in dfs.items():\n",
    "    df.to_sql(table, conn, index=True, if_exists='replace')\n",
    "\n",
    "conn.close()"
   ]
  },
  {
   "cell_type": "code",
   "execution_count": 3,
   "metadata": {},
   "outputs": [
    {
     "name": "stdout",
     "output_type": "stream",
     "text": [
      "products (554417, 3)\n",
      "stock (554417, 2)\n",
      "assessment (554417, 3)\n",
      "invoices (554417, 8)\n",
      "customers (554417, 2)\n"
     ]
    }
   ],
   "source": [
    "for table, df in dfs.items():\n",
    "    print(table, df.shape)\n"
   ]
  },
  {
   "cell_type": "code",
   "execution_count": null,
   "metadata": {},
   "outputs": [],
   "source": []
  }
 ],
 "metadata": {
  "interpreter": {
   "hash": "18280ca97489113fafb1e8bde595a438efbff7c547ca8a138dcc023d9cb2edd5"
  },
  "kernelspec": {
   "display_name": "Python 3.8.5 ('base')",
   "language": "python",
   "name": "python3"
  },
  "language_info": {
   "codemirror_mode": {
    "name": "ipython",
    "version": 3
   },
   "file_extension": ".py",
   "mimetype": "text/x-python",
   "name": "python",
   "nbconvert_exporter": "python",
   "pygments_lexer": "ipython3",
   "version": "3.8.5"
  },
  "orig_nbformat": 4
 },
 "nbformat": 4,
 "nbformat_minor": 2
}
